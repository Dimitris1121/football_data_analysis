{
 "cells": [
  {
   "cell_type": "code",
   "execution_count": 247,
   "metadata": {},
   "outputs": [],
   "source": [
    "import pandas as pd \n",
    "import matplotlib.pyplot as plt\n",
    "import numpy as np\n",
    "import seaborn as sns"
   ]
  },
  {
   "cell_type": "code",
   "execution_count": 248,
   "metadata": {},
   "outputs": [],
   "source": [
    "df = pd.read_csv(\"transfers.csv\", sep=';')"
   ]
  },
  {
   "cell_type": "code",
   "execution_count": 249,
   "metadata": {},
   "outputs": [
    {
     "name": "stdout",
     "output_type": "stream",
     "text": [
      "   id  player_id        player_name  season        date  from_club_id  \\\n",
      "0   1          1  Jermaine Beckford    2017  2017-07-01           391   \n",
      "1   2          1  Jermaine Beckford    2015  2015-07-01           289   \n",
      "2   3          1  Jermaine Beckford    2014  2015-06-30           391   \n",
      "3   4          1  Jermaine Beckford    2014  2014-11-20           289   \n",
      "4   5          1  Jermaine Beckford    2013  2013-07-17           271   \n",
      "\n",
      "  from_club_name  to_club_id to_club_name  market_value  fee from_coach_name  \\\n",
      "0     Preston NE         392         Bury      500000.0  0.0             NaN   \n",
      "1         Bolton         391   Preston NE      750000.0  0.0             NaN   \n",
      "2     Preston NE         289       Bolton      750000.0  NaN             NaN   \n",
      "3         Bolton         391   Preston NE     1200000.0  NaN     Neil Lennon   \n",
      "4      Leicester         289       Bolton     1500000.0  NaN   Nigel Pearson   \n",
      "\n",
      "     to_coach_name from_sport_dir_name to_sport_dir_name contract_was_till  \\\n",
      "0              NaN                 NaN               NaN               NaN   \n",
      "1              NaN                 NaN               NaN               NaN   \n",
      "2              NaN                 NaN               NaN               NaN   \n",
      "3    Simon Grayson                 NaN               NaN        2015-06-30   \n",
      "4  Dougie Freedman                 NaN               NaN        2015-06-30   \n",
      "\n",
      "   is_loan  is_end_of_loan  is_future_transfer  \n",
      "0        0               0                   0  \n",
      "1        0               0                   0  \n",
      "2        0               1                   0  \n",
      "3        1               0                   0  \n",
      "4        0               0                   0  \n"
     ]
    }
   ],
   "source": [
    "print(df.head(5))"
   ]
  },
  {
   "cell_type": "code",
   "execution_count": 250,
   "metadata": {},
   "outputs": [],
   "source": [
    "values = df[['date','fee']].copy()"
   ]
  },
  {
   "cell_type": "code",
   "execution_count": 251,
   "metadata": {},
   "outputs": [
    {
     "name": "stdout",
     "output_type": "stream",
     "text": [
      "          date        fee\n",
      "0   2017-07-01        0.0\n",
      "1   2015-07-01        0.0\n",
      "2   2015-06-30        NaN\n",
      "3   2014-11-20        NaN\n",
      "4   2013-07-17        NaN\n",
      "5   2013-06-30        NaN\n",
      "6   2012-09-29        NaN\n",
      "7   2011-08-31  3400000.0\n",
      "8   2010-07-01        0.0\n",
      "9   2007-06-30        NaN\n",
      "10  2007-01-01        NaN\n",
      "11  2006-11-01        NaN\n",
      "12  2006-10-01        NaN\n",
      "13  2006-03-01        0.0\n",
      "14  2003-07-01        NaN\n"
     ]
    }
   ],
   "source": [
    "print(values.head(15))"
   ]
  },
  {
   "cell_type": "code",
   "execution_count": 252,
   "metadata": {},
   "outputs": [],
   "source": [
    "values = values[values['date'].notna()]\n",
    "values = values[values['fee'].notna()]"
   ]
  },
  {
   "cell_type": "code",
   "execution_count": 253,
   "metadata": {},
   "outputs": [
    {
     "name": "stdout",
     "output_type": "stream",
     "text": [
      "105225    1984-07-01\n",
      "Name: date, dtype: object\n"
     ]
    }
   ],
   "source": [
    "a = values.sort_values(by=['date'])\n",
    "print(a['date'].head(1))"
   ]
  },
  {
   "cell_type": "code",
   "execution_count": 254,
   "metadata": {},
   "outputs": [
    {
     "name": "stdout",
     "output_type": "stream",
     "text": [
      "25308    2020-07-01\n",
      "Name: date, dtype: object\n"
     ]
    }
   ],
   "source": [
    "b = values.sort_values(by=['date'], ascending=False)\n",
    "print(b['date'].head(1))"
   ]
  },
  {
   "cell_type": "code",
   "execution_count": 255,
   "metadata": {},
   "outputs": [
    {
     "name": "stdout",
     "output_type": "stream",
     "text": [
      "<class 'pandas.core.frame.DataFrame'>\n",
      "Int64Index: 42764 entries, 0 to 111601\n",
      "Data columns (total 2 columns):\n",
      " #   Column  Non-Null Count  Dtype  \n",
      "---  ------  --------------  -----  \n",
      " 0   date    42764 non-null  object \n",
      " 1   fee     42764 non-null  float64\n",
      "dtypes: float64(1), object(1)\n",
      "memory usage: 1002.3+ KB\n"
     ]
    }
   ],
   "source": [
    "values.info()"
   ]
  },
  {
   "cell_type": "code",
   "execution_count": 256,
   "metadata": {},
   "outputs": [
    {
     "name": "stdout",
     "output_type": "stream",
     "text": [
      "          date        fee\n",
      "0   2017-07-01        0.0\n",
      "1   2015-07-01        0.0\n",
      "7   2011-08-31  3400000.0\n",
      "8   2010-07-01        0.0\n",
      "13  2006-03-01        0.0\n"
     ]
    }
   ],
   "source": [
    "print(values.head(5))"
   ]
  },
  {
   "cell_type": "code",
   "execution_count": 257,
   "metadata": {},
   "outputs": [],
   "source": [
    "#90s\n",
    "first = values[(values['date'] < '1991-01-01') & (values['fee'] >0.0)]"
   ]
  },
  {
   "cell_type": "code",
   "execution_count": 258,
   "metadata": {},
   "outputs": [],
   "source": [
    "#00s\n",
    "second = values[(values['date'] < '2001-01-01') & (values['date'] >= '1991-01-01')& (values['fee'] >0.0)]"
   ]
  },
  {
   "cell_type": "code",
   "execution_count": 259,
   "metadata": {},
   "outputs": [],
   "source": [
    "#10s\n",
    "third = values[(values['date'] >= '2001-01-01') & (values['date'] < '2011-01-01') & (values['fee'] >0.0)]"
   ]
  },
  {
   "cell_type": "code",
   "execution_count": 260,
   "metadata": {},
   "outputs": [],
   "source": [
    "#20s\n",
    "fourth = values[(values['date'] >= '2011-01-01') & (values['fee'] >0.0)]"
   ]
  },
  {
   "cell_type": "code",
   "execution_count": 261,
   "metadata": {},
   "outputs": [
    {
     "name": "stdout",
     "output_type": "stream",
     "text": [
      "             date        fee\n",
      "10843  1990-07-01   200000.0\n",
      "25465  1990-07-23  1000000.0\n",
      "80035  1990-10-01   150000.0\n",
      "80588  1990-01-01   100000.0\n",
      "83106  1990-11-01   190000.0\n"
     ]
    }
   ],
   "source": [
    "print(first.head())"
   ]
  },
  {
   "cell_type": "code",
   "execution_count": 262,
   "metadata": {},
   "outputs": [],
   "source": [
    "a = first['fee'].sum()\n",
    "b = second['fee'].sum()\n",
    "c = third['fee'].sum()\n",
    "d = fourth['fee'].sum()"
   ]
  },
  {
   "cell_type": "code",
   "execution_count": 263,
   "metadata": {},
   "outputs": [],
   "source": [
    "my_list = [a,b,c,d]"
   ]
  },
  {
   "cell_type": "code",
   "execution_count": 264,
   "metadata": {},
   "outputs": [
    {
     "name": "stdout",
     "output_type": "stream",
     "text": [
      "[3411000.0, 3764603997.0, 20564605009.0, 37899388535.0]\n"
     ]
    }
   ],
   "source": [
    "print(my_list)"
   ]
  },
  {
   "cell_type": "code",
   "execution_count": 337,
   "metadata": {},
   "outputs": [
    {
     "name": "stderr",
     "output_type": "stream",
     "text": [
      "C:\\Users\\Dimitris Theo\\anaconda3\\lib\\site-packages\\ipykernel_launcher.py:7: MatplotlibDeprecationWarning: Adding an axes using the same arguments as a previous axes currently reuses the earlier instance.  In a future version, a new instance will always be created and returned.  Meanwhile, this warning can be suppressed, and the future behavior ensured, by passing a unique label to each axes instance.\n",
      "  import sys\n"
     ]
    },
    {
     "data": {
      "image/png": "[encoded data removed]",
      "text/plain": [
       "<Figure size 1440x1008 with 1 Axes>"
      ]
     },
     "metadata": {},
     "output_type": "display_data"
    }
   ],
   "source": [
    "#MATPLOTLIB\n",
    "plt.figure(figsize = (20,14))\n",
    "plt.bar(range(len(my_list)), my_list, color=['darkgreen', 'lightgreen', 'green', 'darkgreen'],alpha = 0.95)\n",
    "plt.xlabel('Decades')\n",
    "plt.ylabel('Total Amount Spent on Transfer Fees (billions)')\n",
    "plt.title('The Increase of Money Spent on Transfer Fees in the last Decades')\n",
    "ax = plt.subplot()\n",
    "ax.set_xticks([0,1,2,3])\n",
    "ax.set_xticklabels(['90s', '00s','10s', '20s'])\n",
    "\n",
    "plt.show()"
   ]
  },
  {
   "cell_type": "code",
   "execution_count": 323,
   "metadata": {},
   "outputs": [],
   "source": [
    "#----------------------------------------------------------------------------------------------------------------"
   ]
  },
  {
   "cell_type": "code",
   "execution_count": 288,
   "metadata": {},
   "outputs": [
    {
     "name": "stdout",
     "output_type": "stream",
     "text": [
      "       years        fee\n",
      "0       2017        0.0\n",
      "1       2015        0.0\n",
      "7       2011  3400000.0\n",
      "8       2010        0.0\n",
      "13      2006        0.0\n",
      "...      ...        ...\n",
      "111594  2001        0.0\n",
      "111595  2000   800000.0\n",
      "111596  1997  1100000.0\n",
      "111597  1994   100000.0\n",
      "111601  2016        0.0\n",
      "\n",
      "[42764 rows x 2 columns]\n"
     ]
    }
   ],
   "source": [
    "values['years'] = values['date'].str.split('-',expand=True)[0]\n",
    "fees = values[['years','fee']].copy()\n",
    "print(fees)"
   ]
  },
  {
   "cell_type": "code",
   "execution_count": 312,
   "metadata": {},
   "outputs": [],
   "source": [
    "each_year = fees.groupby([fees['years']]).sum().reset_index()"
   ]
  },
  {
   "cell_type": "code",
   "execution_count": 313,
   "metadata": {},
   "outputs": [
    {
     "name": "stdout",
     "output_type": "stream",
     "text": [
      "0    1984\n",
      "1    1986\n",
      "2    1987\n",
      "3    1988\n",
      "4    1989\n",
      "Name: years, dtype: object\n"
     ]
    }
   ],
   "source": [
    "print(each_year[\"years\"].head())"
   ]
  },
  {
   "cell_type": "code",
   "execution_count": 335,
   "metadata": {},
   "outputs": [
    {
     "data": {
      "image/png": "[encoded data removed]",
      "text/plain": [
       "<Figure size 1440x1008 with 1 Axes>"
      ]
     },
     "metadata": {},
     "output_type": "display_data"
    }
   ],
   "source": [
    "#SEABORN\n",
    "sns.set_style('darkgrid')\n",
    "sns.set_context(\"poster\",font_scale=0.5)\n",
    "f, ax = plt.subplots(figsize = (20,14))\n",
    "x = each_year[\"years\"]\n",
    "y = each_year[\"fee\"]\n",
    "ax.set_title('Total amount spent on transfer fees per year')\n",
    "ax = sns.barplot(x, y, palette=\"viridis\")\n",
    "ax.set(xlabel='Year', ylabel='Amount Spent')\n",
    "plt.show()"
   ]
  },
  {
   "cell_type": "code",
   "execution_count": 324,
   "metadata": {},
   "outputs": [],
   "source": [
    "#-----------------------------------------------------------------------------------------------------"
   ]
  },
  {
   "cell_type": "code",
   "execution_count": 325,
   "metadata": {},
   "outputs": [],
   "source": [
    "each_year2 = fees.groupby([fees['years']]).count().reset_index()"
   ]
  },
  {
   "cell_type": "code",
   "execution_count": 330,
   "metadata": {},
   "outputs": [
    {
     "data": {
      "image/png": "[encoded data removed]",
      "text/plain": [
       "<Figure size 1440x1008 with 1 Axes>"
      ]
     },
     "metadata": {},
     "output_type": "display_data"
    }
   ],
   "source": [
    "sns.set_style('darkgrid')\n",
    "sns.set_context(\"poster\",font_scale=0.5)\n",
    "f, ax = plt.subplots(figsize = (20,14))\n",
    "x = each_year2[\"years\"]\n",
    "y = each_year2[\"fee\"]\n",
    "ax.set_title('Total amount spent on transfer fees per year')\n",
    "ax = sns.barplot(x, y,palette=\"rocket\")\n",
    "ax.set(xlabel='Year', ylabel='Amount Spent')\n",
    "plt.show()"
   ]
  },
  {
   "cell_type": "code",
   "execution_count": null,
   "metadata": {},
   "outputs": [],
   "source": []
  }
 ],
 "metadata": {
  "kernelspec": {
   "display_name": "Python 3",
   "language": "python",
   "name": "python3"
  },
  "language_info": {
   "codemirror_mode": {
    "name": "ipython",
    "version": 3
   },
   "file_extension": ".py",
   "mimetype": "text/x-python",
   "name": "python",
   "nbconvert_exporter": "python",
   "pygments_lexer": "ipython3",
   "version": "3.7.6"
  }
 },
 "nbformat": 4,
 "nbformat_minor": 4
}
