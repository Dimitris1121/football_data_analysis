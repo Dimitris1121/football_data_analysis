{
 "cells": [
  {
   "cell_type": "code",
   "execution_count": 3,
   "metadata": {},
   "outputs": [],
   "source": [
    "import pandas as pd \n",
    "import matplotlib.pyplot as plt\n",
    "import numpy as np\n",
    "import seaborn as sns"
   ]
  },
  {
   "cell_type": "code",
   "execution_count": 4,
   "metadata": {},
   "outputs": [],
   "source": [
    "df = pd.read_csv(\"transfers.csv\", sep=';')"
   ]
  },
  {
   "cell_type": "code",
   "execution_count": 5,
   "metadata": {},
   "outputs": [
    {
     "name": "stdout",
     "output_type": "stream",
     "text": [
      "   id  player_id        player_name  season        date  from_club_id  \\\n",
      "0   1          1  Jermaine Beckford    2017  2017-07-01           391   \n",
      "1   2          1  Jermaine Beckford    2015  2015-07-01           289   \n",
      "2   3          1  Jermaine Beckford    2014  2015-06-30           391   \n",
      "3   4          1  Jermaine Beckford    2014  2014-11-20           289   \n",
      "4   5          1  Jermaine Beckford    2013  2013-07-17           271   \n",
      "\n",
      "  from_club_name  to_club_id to_club_name  market_value  fee from_coach_name  \\\n",
      "0     Preston NE         392         Bury      500000.0  0.0             NaN   \n",
      "1         Bolton         391   Preston NE      750000.0  0.0             NaN   \n",
      "2     Preston NE         289       Bolton      750000.0  NaN             NaN   \n",
      "3         Bolton         391   Preston NE     1200000.0  NaN     Neil Lennon   \n",
      "4      Leicester         289       Bolton     1500000.0  NaN   Nigel Pearson   \n",
      "\n",
      "     to_coach_name from_sport_dir_name to_sport_dir_name contract_was_till  \\\n",
      "0              NaN                 NaN               NaN               NaN   \n",
      "1              NaN                 NaN               NaN               NaN   \n",
      "2              NaN                 NaN               NaN               NaN   \n",
      "3    Simon Grayson                 NaN               NaN        2015-06-30   \n",
      "4  Dougie Freedman                 NaN               NaN        2015-06-30   \n",
      "\n",
      "   is_loan  is_end_of_loan  is_future_transfer  \n",
      "0        0               0                   0  \n",
      "1        0               0                   0  \n",
      "2        0               1                   0  \n",
      "3        1               0                   0  \n",
      "4        0               0                   0  \n"
     ]
    }
   ],
   "source": [
    "print(df.head(5))"
   ]
  },
  {
   "cell_type": "code",
   "execution_count": 6,
   "metadata": {},
   "outputs": [],
   "source": [
    "values = df[['date','fee']].copy()"
   ]
  },
  {
   "cell_type": "code",
   "execution_count": 7,
   "metadata": {},
   "outputs": [
    {
     "name": "stdout",
     "output_type": "stream",
     "text": [
      "          date        fee\n",
      "0   2017-07-01        0.0\n",
      "1   2015-07-01        0.0\n",
      "2   2015-06-30        NaN\n",
      "3   2014-11-20        NaN\n",
      "4   2013-07-17        NaN\n",
      "5   2013-06-30        NaN\n",
      "6   2012-09-29        NaN\n",
      "7   2011-08-31  3400000.0\n",
      "8   2010-07-01        0.0\n",
      "9   2007-06-30        NaN\n",
      "10  2007-01-01        NaN\n",
      "11  2006-11-01        NaN\n",
      "12  2006-10-01        NaN\n",
      "13  2006-03-01        0.0\n",
      "14  2003-07-01        NaN\n"
     ]
    }
   ],
   "source": [
    "print(values.head(15))"
   ]
  },
  {
   "cell_type": "code",
   "execution_count": 8,
   "metadata": {},
   "outputs": [],
   "source": [
    "values = values[values['date'].notna()]\n",
    "values = values[values['fee'].notna()]"
   ]
  },
  {
   "cell_type": "code",
   "execution_count": 9,
   "metadata": {},
   "outputs": [
    {
     "name": "stdout",
     "output_type": "stream",
     "text": [
      "105225    1984-07-01\n",
      "Name: date, dtype: object\n"
     ]
    }
   ],
   "source": [
    "a = values.sort_values(by=['date'])\n",
    "print(a['date'].head(1))"
   ]
  },
  {
   "cell_type": "code",
   "execution_count": 10,
   "metadata": {},
   "outputs": [
    {
     "name": "stdout",
     "output_type": "stream",
     "text": [
      "25308    2020-07-01\n",
      "Name: date, dtype: object\n"
     ]
    }
   ],
   "source": [
    "b = values.sort_values(by=['date'], ascending=False)\n",
    "print(b['date'].head(1))"
   ]
  },
  {
   "cell_type": "code",
   "execution_count": 11,
   "metadata": {},
   "outputs": [
    {
     "name": "stdout",
     "output_type": "stream",
     "text": [
      "<class 'pandas.core.frame.DataFrame'>\n",
      "Int64Index: 42764 entries, 0 to 111601\n",
      "Data columns (total 2 columns):\n",
      " #   Column  Non-Null Count  Dtype  \n",
      "---  ------  --------------  -----  \n",
      " 0   date    42764 non-null  object \n",
      " 1   fee     42764 non-null  float64\n",
      "dtypes: float64(1), object(1)\n",
      "memory usage: 1002.3+ KB\n"
     ]
    }
   ],
   "source": [
    "values.info()"
   ]
  },
  {
   "cell_type": "code",
   "execution_count": 12,
   "metadata": {},
   "outputs": [
    {
     "name": "stdout",
     "output_type": "stream",
     "text": [
      "          date        fee\n",
      "0   2017-07-01        0.0\n",
      "1   2015-07-01        0.0\n",
      "7   2011-08-31  3400000.0\n",
      "8   2010-07-01        0.0\n",
      "13  2006-03-01        0.0\n"
     ]
    }
   ],
   "source": [
    "print(values.head(5))"
   ]
  },
  {
   "cell_type": "code",
   "execution_count": 13,
   "metadata": {},
   "outputs": [],
   "source": [
    "#80s\n",
    "first = values[(values['date'] < '1990-01-01') & (values['fee'] >0.0)]"
   ]
  },
  {
   "cell_type": "code",
   "execution_count": 14,
   "metadata": {},
   "outputs": [],
   "source": [
    "#90s\n",
    "second = values[(values['date'] < '2000-01-01') & (values['date'] >= '1990-01-01')& (values['fee'] >0.0)]"
   ]
  },
  {
   "cell_type": "code",
   "execution_count": 15,
   "metadata": {},
   "outputs": [],
   "source": [
    "#00s\n",
    "third = values[(values['date'] >= '2000-01-01') & (values['date'] < '2010-01-01') & (values['fee'] >0.0)]"
   ]
  },
  {
   "cell_type": "code",
   "execution_count": 16,
   "metadata": {},
   "outputs": [],
   "source": [
    "#10s\n",
    "fourth = values[(values['date'] >= '2010-01-01') & (values['fee'] >0.0)]"
   ]
  },
  {
   "cell_type": "code",
   "execution_count": 17,
   "metadata": {},
   "outputs": [
    {
     "name": "stdout",
     "output_type": "stream",
     "text": [
      "              date        fee\n",
      "98719   1989-12-01   180000.0\n",
      "109047  1989-09-01  1500000.0\n",
      "109780  1989-03-01    75000.0\n"
     ]
    }
   ],
   "source": [
    "print(first.head())"
   ]
  },
  {
   "cell_type": "code",
   "execution_count": 18,
   "metadata": {},
   "outputs": [],
   "source": [
    "a = first['fee'].sum()\n",
    "b = second['fee'].sum()\n",
    "c = third['fee'].sum()\n",
    "d = fourth['fee'].sum()"
   ]
  },
  {
   "cell_type": "code",
   "execution_count": 19,
   "metadata": {},
   "outputs": [],
   "source": [
    "my_list = [a,b,c,d]"
   ]
  },
  {
   "cell_type": "code",
   "execution_count": 20,
   "metadata": {},
   "outputs": [
    {
     "name": "stdout",
     "output_type": "stream",
     "text": [
      "[1755000.0, 2414805999.0, 19589800132.0, 40225647410.0]\n"
     ]
    }
   ],
   "source": [
    "print(my_list)"
   ]
  },
  {
   "cell_type": "code",
   "execution_count": 21,
   "metadata": {},
   "outputs": [
    {
     "name": "stderr",
     "output_type": "stream",
     "text": [
      "C:\\Users\\Dimitris Theo\\anaconda3\\lib\\site-packages\\ipykernel_launcher.py:7: MatplotlibDeprecationWarning: Adding an axes using the same arguments as a previous axes currently reuses the earlier instance.  In a future version, a new instance will always be created and returned.  Meanwhile, this warning can be suppressed, and the future behavior ensured, by passing a unique label to each axes instance.\n",
      "  import sys\n"
     ]
    },
    {
     "data": {
      "image/png": "[encoded data removed]",
      "text/plain": [
       "<Figure size 1440x1008 with 1 Axes>"
      ]
     },
     "metadata": {
      "needs_background": "light"
     },
     "output_type": "display_data"
    }
   ],
   "source": [
    "#MATPLOTLIB\n",
    "plt.figure(figsize = (20,14))\n",
    "plt.bar(range(len(my_list)), my_list, color=['darkgreen', 'lightgreen', 'green', 'darkgreen'],alpha = 0.95)\n",
    "plt.xlabel('Decades')\n",
    "plt.ylabel('Total Amount Spent on Transfer Fees (billions)')\n",
    "plt.title('The Increase of Money Spent on Transfer Fees in the last Decades')\n",
    "ax = plt.subplot()\n",
    "ax.set_xticks([0,1,2,3])\n",
    "ax.set_xticklabels(['80s', '90s','00s', '10s'])\n",
    "\n",
    "plt.show()"
   ]
  },
  {
   "cell_type": "code",
   "execution_count": 69,
   "metadata": {},
   "outputs": [],
   "source": [
    "#----------------------------------------------------------------------------------------------------------------"
   ]
  },
  {
   "cell_type": "code",
   "execution_count": 70,
   "metadata": {},
   "outputs": [
    {
     "name": "stdout",
     "output_type": "stream",
     "text": [
      "       years        fee\n",
      "0       2017        0.0\n",
      "1       2015        0.0\n",
      "7       2011  3400000.0\n",
      "8       2010        0.0\n",
      "13      2006        0.0\n",
      "...      ...        ...\n",
      "111594  2001        0.0\n",
      "111595  2000   800000.0\n",
      "111596  1997  1100000.0\n",
      "111597  1994   100000.0\n",
      "111601  2016        0.0\n",
      "\n",
      "[42764 rows x 2 columns]\n"
     ]
    }
   ],
   "source": [
    "values['years'] = values['date'].str.split('-',expand=True)[0]\n",
    "fees = values[['years','fee']].copy()\n",
    "print(fees)"
   ]
  },
  {
   "cell_type": "code",
   "execution_count": 71,
   "metadata": {},
   "outputs": [],
   "source": [
    "each_year = fees.groupby([fees['years']]).sum().reset_index()\n",
    "each_year['years'] = each_year['years'][0:-2]"
   ]
  },
  {
   "cell_type": "code",
   "execution_count": 72,
   "metadata": {},
   "outputs": [
    {
     "name": "stdout",
     "output_type": "stream",
     "text": [
      "0     1984\n",
      "1     1986\n",
      "2     1987\n",
      "3     1988\n",
      "4     1989\n",
      "5     1990\n",
      "6     1991\n",
      "7     1992\n",
      "8     1993\n",
      "9     1994\n",
      "10    1995\n",
      "11    1996\n",
      "12    1997\n",
      "13    1998\n",
      "14    1999\n",
      "15    2000\n",
      "16    2001\n",
      "17    2002\n",
      "18    2003\n",
      "19    2004\n",
      "20    2005\n",
      "21    2006\n",
      "22    2007\n",
      "23    2008\n",
      "24    2009\n",
      "25    2010\n",
      "26    2011\n",
      "27    2012\n",
      "28    2013\n",
      "29    2014\n",
      "30    2015\n",
      "31    2016\n",
      "32    2017\n",
      "33    2018\n",
      "34     NaN\n",
      "Name: years, dtype: object\n"
     ]
    }
   ],
   "source": [
    "print(each_year[\"years\"].head(35))"
   ]
  },
  {
   "cell_type": "code",
   "execution_count": 73,
   "metadata": {},
   "outputs": [
    {
     "data": {
      "image/png": "[encoded data removed]",
      "text/plain": [
       "<Figure size 1440x1008 with 1 Axes>"
      ]
     },
     "metadata": {},
     "output_type": "display_data"
    }
   ],
   "source": [
    "#SEABORN\n",
    "sns.set_style('darkgrid')\n",
    "sns.set_context(\"poster\",font_scale=0.5)\n",
    "f, ax = plt.subplots(figsize = (20,14))\n",
    "x = each_year[\"years\"]\n",
    "y = each_year[\"fee\"]\n",
    "ax.set_title('Total amount spent on transfer fees per year')\n",
    "ax = sns.barplot(x, y, palette=\"viridis\")\n",
    "ax.set(xlabel='Year', ylabel='Amount Spent')\n",
    "plt.show()"
   ]
  },
  {
   "cell_type": "code",
   "execution_count": 74,
   "metadata": {},
   "outputs": [],
   "source": [
    "#-----------------------------------------------------------------------------------------------------"
   ]
  },
  {
   "cell_type": "code",
   "execution_count": 75,
   "metadata": {},
   "outputs": [
    {
     "name": "stdout",
     "output_type": "stream",
     "text": [
      "   years   fee\n",
      "0   1984     2\n",
      "1   1986     2\n",
      "2   1987     6\n",
      "3   1988    12\n",
      "4   1989    11\n",
      "5   1990    28\n",
      "6   1991    43\n",
      "7   1992    66\n",
      "8   1993    77\n",
      "9   1994   119\n",
      "10  1995   189\n",
      "11  1996   264\n",
      "12  1997   336\n",
      "13  1998   473\n",
      "14  1999   538\n",
      "15  2000   665\n",
      "16  2001   782\n",
      "17  2002   810\n",
      "18  2003   993\n",
      "19  2004  1402\n",
      "20  2005  1735\n",
      "21  2006  2008\n",
      "22  2007  2270\n",
      "23  2008  2345\n",
      "24  2009  2209\n",
      "25  2010  2512\n",
      "26  2011  2790\n",
      "27  2012  2749\n",
      "28  2013  2759\n",
      "29  2014  2777\n",
      "30  2015  2906\n",
      "31  2016  2861\n",
      "32  2017  2859\n",
      "33  2018  2580\n",
      "34  2019   585\n",
      "35  2020     1\n"
     ]
    }
   ],
   "source": [
    "each_year2 = fees.groupby([fees['years']]).count().reset_index()\n",
    "print(each_year2)"
   ]
  },
  {
   "cell_type": "code",
   "execution_count": 76,
   "metadata": {},
   "outputs": [],
   "source": [
    "each_year2['years'] = each_year2['years'][0:-2]"
   ]
  },
  {
   "cell_type": "code",
   "execution_count": 47,
   "metadata": {},
   "outputs": [
    {
     "data": {
      "image/png": "[encoded data removed]",
      "text/plain": [
       "<Figure size 1440x1008 with 1 Axes>"
      ]
     },
     "metadata": {},
     "output_type": "display_data"
    }
   ],
   "source": [
    "sns.set_style('darkgrid')\n",
    "sns.set_context(\"poster\",font_scale=0.5)\n",
    "f, ax = plt.subplots(figsize = (20,14))\n",
    "x = each_year2[\"years\"]\n",
    "y = each_year2[\"fee\"]\n",
    "ax.set_title('Number of transfers per year')\n",
    "ax = sns.barplot(x, y,palette=\"rocket\")\n",
    "ax.set(xlabel='Year', ylabel='Number of transfers')\n",
    "plt.show()"
   ]
  },
  {
   "cell_type": "code",
   "execution_count": null,
   "metadata": {},
   "outputs": [],
   "source": []
  }
 ],
 "metadata": {
  "kernelspec": {
   "display_name": "Python 3",
   "language": "python",
   "name": "python3"
  },
  "language_info": {
   "codemirror_mode": {
    "name": "ipython",
    "version": 3
   },
   "file_extension": ".py",
   "mimetype": "text/x-python",
   "name": "python",
   "nbconvert_exporter": "python",
   "pygments_lexer": "ipython3",
   "version": "3.7.6"
  }
 },
 "nbformat": 4,
 "nbformat_minor": 4
}
